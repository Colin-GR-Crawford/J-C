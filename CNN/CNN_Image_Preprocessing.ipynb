{
 "cells": [
  {
   "cell_type": "code",
   "execution_count": 1,
   "metadata": {
    "collapsed": false
   },
   "outputs": [
    {
     "name": "stderr",
     "output_type": "stream",
     "text": [
      "/Users/annacrawford/anaconda/envs/img_pro/lib/python2.7/site-packages/matplotlib/font_manager.py:273: UserWarning: Matplotlib is building the font cache using fc-list. This may take a moment.\n",
      "  warnings.warn('Matplotlib is building the font cache using fc-list. This may take a moment.')\n"
     ]
    }
   ],
   "source": [
    "import pandas as pd\n",
    "from PIL import Image\n",
    "from scipy import misc\n",
    "import numpy as np\n",
    "import matplotlib.pyplot as plt\n",
    "import random as rand\n",
    "import cv2\n",
    "%matplotlib inline"
   ]
  },
  {
   "cell_type": "code",
   "execution_count": 2,
   "metadata": {
    "collapsed": false
   },
   "outputs": [],
   "source": [
    "Data=pd.read_csv('Shoe_IDs.csv')"
   ]
  },
  {
   "cell_type": "code",
   "execution_count": 3,
   "metadata": {
    "collapsed": true
   },
   "outputs": [],
   "source": [
    "Root_Location='/Users/annacrawford/Desktop/Images_CNN/'"
   ]
  },
  {
   "cell_type": "code",
   "execution_count": 4,
   "metadata": {
    "collapsed": true
   },
   "outputs": [],
   "source": [
    "files=list(Data.id)\n",
    "files=[''.join(['_',str(x),'_a.jpg']) for x in files]\n",
    "Image_Order=[x[1:-6] for x in files]"
   ]
  },
  {
   "cell_type": "code",
   "execution_count": 6,
   "metadata": {
    "collapsed": false
   },
   "outputs": [
    {
     "data": {
      "text/html": [
       "<div>\n",
       "<table border=\"1\" class=\"dataframe\">\n",
       "  <thead>\n",
       "    <tr style=\"text-align: right;\">\n",
       "      <th></th>\n",
       "      <th>Unnamed: 0</th>\n",
       "      <th>id</th>\n",
       "      <th>type_1</th>\n",
       "      <th>type_2</th>\n",
       "      <th>Model_1</th>\n",
       "      <th>Red</th>\n",
       "      <th>Green</th>\n",
       "      <th>Blue</th>\n",
       "      <th>Red_2</th>\n",
       "      <th>Green_2</th>\n",
       "      <th>Blue_2</th>\n",
       "      <th>Red_3</th>\n",
       "      <th>Green_3</th>\n",
       "      <th>Blue_3</th>\n",
       "      <th>ID</th>\n",
       "    </tr>\n",
       "  </thead>\n",
       "  <tbody>\n",
       "    <tr>\n",
       "      <th>0</th>\n",
       "      <td>0</td>\n",
       "      <td>10401</td>\n",
       "      <td>sneakers</td>\n",
       "      <td>NaN</td>\n",
       "      <td>sneakers</td>\n",
       "      <td>62</td>\n",
       "      <td>58</td>\n",
       "      <td>62</td>\n",
       "      <td>190</td>\n",
       "      <td>189</td>\n",
       "      <td>191</td>\n",
       "      <td>130</td>\n",
       "      <td>129</td>\n",
       "      <td>131</td>\n",
       "      <td>10401</td>\n",
       "    </tr>\n",
       "    <tr>\n",
       "      <th>1</th>\n",
       "      <td>1</td>\n",
       "      <td>1557</td>\n",
       "      <td>sneakers</td>\n",
       "      <td>NaN</td>\n",
       "      <td>sneakers</td>\n",
       "      <td>51</td>\n",
       "      <td>49</td>\n",
       "      <td>57</td>\n",
       "      <td>107</td>\n",
       "      <td>106</td>\n",
       "      <td>108</td>\n",
       "      <td>29</td>\n",
       "      <td>28</td>\n",
       "      <td>33</td>\n",
       "      <td>1557</td>\n",
       "    </tr>\n",
       "    <tr>\n",
       "      <th>2</th>\n",
       "      <td>2</td>\n",
       "      <td>1558</td>\n",
       "      <td>boots</td>\n",
       "      <td>chelsea</td>\n",
       "      <td>boots</td>\n",
       "      <td>170</td>\n",
       "      <td>112</td>\n",
       "      <td>73</td>\n",
       "      <td>125</td>\n",
       "      <td>79</td>\n",
       "      <td>46</td>\n",
       "      <td>197</td>\n",
       "      <td>141</td>\n",
       "      <td>106</td>\n",
       "      <td>1558</td>\n",
       "    </tr>\n",
       "    <tr>\n",
       "      <th>3</th>\n",
       "      <td>3</td>\n",
       "      <td>1559</td>\n",
       "      <td>boots</td>\n",
       "      <td>NaN</td>\n",
       "      <td>boots</td>\n",
       "      <td>179</td>\n",
       "      <td>152</td>\n",
       "      <td>126</td>\n",
       "      <td>77</td>\n",
       "      <td>62</td>\n",
       "      <td>53</td>\n",
       "      <td>154</td>\n",
       "      <td>125</td>\n",
       "      <td>100</td>\n",
       "      <td>1559</td>\n",
       "    </tr>\n",
       "    <tr>\n",
       "      <th>4</th>\n",
       "      <td>4</td>\n",
       "      <td>1560</td>\n",
       "      <td>boots</td>\n",
       "      <td>chelsea</td>\n",
       "      <td>boots</td>\n",
       "      <td>25</td>\n",
       "      <td>21</td>\n",
       "      <td>21</td>\n",
       "      <td>88</td>\n",
       "      <td>86</td>\n",
       "      <td>86</td>\n",
       "      <td>46</td>\n",
       "      <td>42</td>\n",
       "      <td>42</td>\n",
       "      <td>1560</td>\n",
       "    </tr>\n",
       "  </tbody>\n",
       "</table>\n",
       "</div>"
      ],
      "text/plain": [
       "   Unnamed: 0     id    type_1   type_2   Model_1  Red  Green  Blue  Red_2  \\\n",
       "0           0  10401  sneakers      NaN  sneakers   62     58    62    190   \n",
       "1           1   1557  sneakers      NaN  sneakers   51     49    57    107   \n",
       "2           2   1558     boots  chelsea     boots  170    112    73    125   \n",
       "3           3   1559     boots      NaN     boots  179    152   126     77   \n",
       "4           4   1560     boots  chelsea     boots   25     21    21     88   \n",
       "\n",
       "   Green_2  Blue_2  Red_3  Green_3  Blue_3     ID  \n",
       "0      189     191    130      129     131  10401  \n",
       "1      106     108     29       28      33   1557  \n",
       "2       79      46    197      141     106   1558  \n",
       "3       62      53    154      125     100   1559  \n",
       "4       86      86     46       42      42   1560  "
      ]
     },
     "execution_count": 6,
     "metadata": {},
     "output_type": "execute_result"
    }
   ],
   "source": [
    "Data.head()"
   ]
  },
  {
   "cell_type": "code",
   "execution_count": 7,
   "metadata": {
    "collapsed": false
   },
   "outputs": [],
   "source": [
    "Background1=Image.open('Background1.jpg').convert('L')\n",
    "Background2=Image.open('Background2.jpg').convert('L')\n",
    "Background3=Image.open('Background3.jpg').convert('L')\n",
    "Background_List=[Background1,Background2,Background3]"
   ]
  },
  {
   "cell_type": "code",
   "execution_count": 8,
   "metadata": {
    "collapsed": false
   },
   "outputs": [],
   "source": [
    "def Background_Generate(Input_Image):\n",
    "    Background_Number=rand.randint(0,2)\n",
    "    Background_Image=Background_List[Background_Number]\n",
    "    ## Crop random area\n",
    "    ar=misc.fromimage(Background_Image)\n",
    "    h=ar.shape[0]\n",
    "    w=ar.shape[1]\n",
    "    y=rand.randint(0,h-200)\n",
    "    x=rand.randint(0,w-200)\n",
    "    Cropped_Image=Background_Image.crop((x,y,x+200,y+200))\n",
    "    #Out_Image=Image.blend(Cropped_Image,im,0.5)\n",
    "    ar_out=misc.fromimage(Cropped_Image)\n",
    "    Output_Image=np.select([Input_Image<245],[Input_Image],ar_out)\n",
    "    return Output_Image"
   ]
  },
  {
   "cell_type": "code",
   "execution_count": 9,
   "metadata": {
    "collapsed": true
   },
   "outputs": [],
   "source": [
    "def resize(Input_image):\n",
    "    Med=cv2.resize(Input_image,(150,150))\n",
    "    Small=cv2.resize(Input_image,(100,100))\n",
    "    White_Small=np.empty((200,200),dtype=Med.dtype)\n",
    "    White_Small.fill(255)\n",
    "    White_Med=White_Small.copy()\n",
    "    White_Small[50:150, 50:150] = Small\n",
    "    White_Med[25:175, 25:175] = Med\n",
    "    return White_Med,White_Small"
   ]
  },
  {
   "cell_type": "code",
   "execution_count": 20,
   "metadata": {
    "collapsed": false
   },
   "outputs": [],
   "source": [
    "Original_Image=[]\n",
    "Background_Image=[]\n",
    "Image_Rotate1=[]\n",
    "Image_Rotate2=[]\n",
    "Image_Rotate3=[]\n",
    "Image_Scale1=[]\n",
    "Image_Scale2=[]\n",
    "\n",
    "for x in files:\n",
    "    try:\n",
    "        dloc=''.join([Root_Location,x])\n",
    "        ## Import image in greyscale\n",
    "        im = cv2.imread(dloc,0)\n",
    "\n",
    "        ## Base Image\n",
    "        Original_Image.append(im)\n",
    "\n",
    "        ## Add Noise\n",
    "        im_N=Background_Generate(im)\n",
    "        Background_Image.append(im_N)\n",
    "\n",
    "        ## Scale Image\n",
    "        Med,Small=resize(im)\n",
    "\n",
    "        ## Add Noise\n",
    "        Med=Background_Generate(Med)\n",
    "        Image_Scale1.append(Med)\n",
    "\n",
    "        Small=Background_Generate(Small)\n",
    "        Image_Scale2.append(Small)\n",
    "\n",
    "        ## Noisy Image\n",
    "        N_Im=Background_Generate(im)\n",
    "\n",
    "        ## Rotate Noisy Image\n",
    "        ar_90=np.rot90(N_Im,1)\n",
    "        Image_Rotate1.append(ar_90)\n",
    "\n",
    "        ar_180=np.rot90(N_Im,2)\n",
    "        Image_Rotate2.append(ar_180)\n",
    "\n",
    "        ar_270=np.rot90(N_Im,3)\n",
    "        Image_Rotate3.append(ar_270)\n",
    "    \n",
    "    except:\n",
    "        print 'Error processing image :',x"
   ]
  },
  {
   "cell_type": "code",
   "execution_count": 21,
   "metadata": {
    "collapsed": false
   },
   "outputs": [
    {
     "data": {
      "text/plain": [
       "9243"
      ]
     },
     "execution_count": 21,
     "metadata": {},
     "output_type": "execute_result"
    }
   ],
   "source": [
    "len(Original_Image)"
   ]
  },
  {
   "cell_type": "code",
   "execution_count": 186,
   "metadata": {
    "collapsed": false
   },
   "outputs": [],
   "source": [
    "im = Image.open('/Users/annacrawford/Desktop/Images_CNN/_1557_a.jpg').convert('L')\n",
    "ar = misc.fromimage(im)"
   ]
  },
  {
   "cell_type": "code",
   "execution_count": 22,
   "metadata": {
    "collapsed": true
   },
   "outputs": [],
   "source": [
    "X=np.array([Original_Image,\n",
    "            Background_Image,\n",
    "            Image_Rotate1,\n",
    "            Image_Rotate2,\n",
    "            Image_Rotate3,\n",
    "            Image_Scale1,\n",
    "            Image_Scale2])"
   ]
  },
  {
   "cell_type": "code",
   "execution_count": 31,
   "metadata": {
    "collapsed": false
   },
   "outputs": [],
   "source": [
    "X = np.concatenate([Original_Image,\n",
    "            Background_Image,\n",
    "            Image_Rotate1,\n",
    "            Image_Rotate2,\n",
    "            Image_Rotate3,\n",
    "            Image_Scale1,\n",
    "            Image_Scale2])"
   ]
  },
  {
   "cell_type": "code",
   "execution_count": 32,
   "metadata": {
    "collapsed": false
   },
   "outputs": [
    {
     "data": {
      "text/plain": [
       "(64701, 200, 200)"
      ]
     },
     "execution_count": 32,
     "metadata": {},
     "output_type": "execute_result"
    }
   ],
   "source": [
    "X.shape"
   ]
  },
  {
   "cell_type": "code",
   "execution_count": 33,
   "metadata": {
    "collapsed": true
   },
   "outputs": [],
   "source": [
    "with file('X_Data_Large.npy', 'w') as Xoutfile:\n",
    "    np.save(Xoutfile,X)"
   ]
  },
  {
   "cell_type": "code",
   "execution_count": 5,
   "metadata": {
    "collapsed": true
   },
   "outputs": [],
   "source": [
    "y=np.concatenate([Data.Model_1,\n",
    "                  Data.Model_1,\n",
    "                  Data.Model_1,\n",
    "                  Data.Model_1,\n",
    "                  Data.Model_1,\n",
    "                  Data.Model_1,\n",
    "                  Data.Model_1])"
   ]
  },
  {
   "cell_type": "code",
   "execution_count": 6,
   "metadata": {
    "collapsed": false
   },
   "outputs": [
    {
     "data": {
      "text/plain": [
       "(64701,)"
      ]
     },
     "execution_count": 6,
     "metadata": {},
     "output_type": "execute_result"
    }
   ],
   "source": [
    "y.shape"
   ]
  },
  {
   "cell_type": "code",
   "execution_count": 7,
   "metadata": {
    "collapsed": true
   },
   "outputs": [],
   "source": [
    "with file('y_Data_Large.npy', 'w') as youtfile:    \n",
    "    np.save(youtfile,y)"
   ]
  },
  {
   "cell_type": "code",
   "execution_count": 8,
   "metadata": {
    "collapsed": false
   },
   "outputs": [
    {
     "data": {
      "text/plain": [
       "array(['boots', 'formal', 'loafers', 'sneakers'], dtype=object)"
      ]
     },
     "execution_count": 8,
     "metadata": {},
     "output_type": "execute_result"
    }
   ],
   "source": [
    "np.unique(y)"
   ]
  },
  {
   "cell_type": "code",
   "execution_count": null,
   "metadata": {
    "collapsed": true
   },
   "outputs": [],
   "source": []
  }
 ],
 "metadata": {
  "anaconda-cloud": {},
  "kernelspec": {
   "display_name": "Python 2",
   "language": "python",
   "name": "python2"
  },
  "language_info": {
   "codemirror_mode": {
    "name": "ipython",
    "version": 2
   },
   "file_extension": ".py",
   "mimetype": "text/x-python",
   "name": "python",
   "nbconvert_exporter": "python",
   "pygments_lexer": "ipython2",
   "version": "2.7.12"
  }
 },
 "nbformat": 4,
 "nbformat_minor": 0
}
